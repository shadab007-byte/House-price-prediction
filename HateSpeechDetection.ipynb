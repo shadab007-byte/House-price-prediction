{
  "nbformat": 4,
  "nbformat_minor": 0,
  "metadata": {
    "colab": {
      "provenance": [],
      "authorship_tag": "ABX9TyOxiBkHUeOagL97lqn9sCKf",
      "include_colab_link": true
    },
    "kernelspec": {
      "name": "python3",
      "display_name": "Python 3"
    },
    "language_info": {
      "name": "python"
    }
  },
  "cells": [
    {
      "cell_type": "markdown",
      "metadata": {
        "id": "view-in-github",
        "colab_type": "text"
      },
      "source": [
        "<a href=\"https://colab.research.google.com/github/shadab007-byte/House-price-prediction/blob/main/HateSpeechDetection.ipynb\" target=\"_parent\"><img src=\"https://colab.research.google.com/assets/colab-badge.svg\" alt=\"Open In Colab\"/></a>"
      ]
    },
    {
      "cell_type": "code",
      "execution_count": 2,
      "metadata": {
        "colab": {
          "base_uri": "https://localhost:8080/"
        },
        "id": "QWpFk9mYI0M2",
        "outputId": "fec8d61d-80dc-439e-90ca-153029b4ca83"
      },
      "outputs": [
        {
          "output_type": "stream",
          "name": "stdout",
          "text": [
            "Fitting 5 folds for each of 108 candidates, totalling 540 fits\n"
          ]
        },
        {
          "output_type": "stream",
          "name": "stderr",
          "text": [
            "[nltk_data] Downloading package stopwords to /root/nltk_data...\n",
            "[nltk_data]   Package stopwords is already up-to-date!\n"
          ]
        },
        {
          "output_type": "stream",
          "name": "stdout",
          "text": [
            "Classification Report:\n",
            "              precision    recall  f1-score   support\n",
            "\n",
            "           0       1.00      1.00      1.00       102\n",
            "           1       1.00      1.00      1.00       102\n",
            "\n",
            "    accuracy                           1.00       204\n",
            "   macro avg       1.00      1.00      1.00       204\n",
            "weighted avg       1.00      1.00      1.00       204\n",
            "\n",
            "Accuracy: 1.0000\n",
            "Cross-Validation Accuracy: 1.0000\n",
            "Correctly Classified Hate Speech Examples:\n",
            "                      Tweet  True Label  Predicted Label\n",
            "523      wish people better           1                1\n",
            "526   anger consumes around           1                1\n",
            "76           focus positive           1                1\n",
            "70   appreciate good around           1                1\n",
            "675            despise much           1                1\n",
            "\n",
            "Incorrectly Classified Hate Speech Examples:\n",
            "Empty DataFrame\n",
            "Columns: [Tweet, True Label, Predicted Label]\n",
            "Index: []\n",
            "\n",
            "Correctly Classified Non-Hate Speech Examples:\n",
            "                                     Tweet  True Label  Predicted Label\n",
            "602                      kindness everyone           0                0\n",
            "31                      community positive           0                0\n",
            "616  love kindness make world better place           0                0\n",
            "585                             fills rage           0                0\n",
            "444              choose kindness every day           0                0\n",
            "\n",
            "Incorrectly Classified Non-Hate Speech Examples:\n",
            "Empty DataFrame\n",
            "Columns: [Tweet, True Label, Predicted Label]\n",
            "Index: []\n"
          ]
        }
      ],
      "source": [
        "# Required Libraries\n",
        "import pandas as pd\n",
        "import re\n",
        "import nltk\n",
        "from sklearn.model_selection import train_test_split, GridSearchCV, cross_val_score\n",
        "from sklearn.feature_extraction.text import TfidfVectorizer\n",
        "from sklearn.ensemble import RandomForestClassifier\n",
        "from sklearn.metrics import classification_report, accuracy_score\n",
        "from nltk.corpus import stopwords\n",
        "\n",
        "# Download necessary NLTK data\n",
        "nltk.download('stopwords')\n",
        "stop_words = set(stopwords.words('english'))\n",
        "\n",
        "# Load the dataset\n",
        "df = pd.read_csv('large_sample_tweets.csv')  # Using the specified file\n",
        "\n",
        "# Preprocessing function to clean tweets\n",
        "def clean_text(text):\n",
        "    text = text.lower()  # Convert to lowercase\n",
        "    text = re.sub(r'http\\S+', '', text)  # Remove URLs\n",
        "    text = re.sub(r'@\\w+', '', text)  # Remove mentions\n",
        "    text = re.sub(r'#\\w+', '', text)  # Remove hashtags\n",
        "    text = re.sub(r'\\d+', '', text)  # Remove numbers\n",
        "    text = re.sub(r'\\W', ' ', text)  # Remove special characters\n",
        "    text = re.sub(r'\\s+', ' ', text).strip()  # Remove extra spaces\n",
        "    tokens = [word for word in text.split() if word not in stop_words]  # Remove stopwords\n",
        "    return ' '.join(tokens)\n",
        "\n",
        "# Apply preprocessing to the 'tweet' column\n",
        "df['clean_text'] = df['tweet'].apply(clean_text)\n",
        "\n",
        "# Defining features (X) and labels (y)\n",
        "X = df['clean_text']\n",
        "y = df['label']  # Assuming the label column is named 'label'\n",
        "\n",
        "# Split the data into training and testing sets\n",
        "X_train, X_test, y_train, y_test = train_test_split(X, y, test_size=0.2, random_state=42)\n",
        "\n",
        "# Using TF-IDF vectorization for feature extraction\n",
        "vectorizer = TfidfVectorizer(max_features=5000, ngram_range=(1, 2))  # Using bigrams for more context\n",
        "X_train_tfidf = vectorizer.fit_transform(X_train)\n",
        "X_test_tfidf = vectorizer.transform(X_test)\n",
        "\n",
        "# Random Forest Classifier with GridSearch for hyperparameter tuning\n",
        "rf = RandomForestClassifier()\n",
        "\n",
        "# Set up the hyperparameter grid\n",
        "param_grid = {\n",
        "    'n_estimators': [100, 200, 300],\n",
        "    'max_depth': [None, 10, 20, 30],\n",
        "    'min_samples_split': [2, 5, 10],\n",
        "    'min_samples_leaf': [1, 2, 4]\n",
        "}\n",
        "\n",
        "# Perform GridSearch to find the best parameters\n",
        "grid_search = GridSearchCV(rf, param_grid, cv=5, scoring='accuracy', n_jobs=-1, verbose=1)\n",
        "grid_search.fit(X_train_tfidf, y_train)\n",
        "\n",
        "# Best Random Forest model\n",
        "best_rf = grid_search.best_estimator_\n",
        "\n",
        "# Make predictions on the test set\n",
        "y_pred = best_rf.predict(X_test_tfidf)\n",
        "\n",
        "# Print classification report\n",
        "print(\"Classification Report:\")\n",
        "print(classification_report(y_test, y_pred))\n",
        "\n",
        "# Check the accuracy of the model\n",
        "accuracy = accuracy_score(y_test, y_pred)\n",
        "print(f\"Accuracy: {accuracy:.4f}\")\n",
        "\n",
        "# Cross-validation accuracy\n",
        "cv_scores = cross_val_score(best_rf, X_train_tfidf, y_train, cv=5, scoring='accuracy')\n",
        "print(f\"Cross-Validation Accuracy: {cv_scores.mean():.4f}\")\n",
        "\n",
        "# Evaluation with examples\n",
        "import numpy as np\n",
        "predictions = best_rf.predict(X_test_tfidf)\n",
        "\n",
        "# Convert test set to DataFrame for better display\n",
        "test_results = pd.DataFrame({\n",
        "    'Tweet': X_test,\n",
        "    'True Label': y_test,\n",
        "    'Predicted Label': predictions\n",
        "})\n",
        "\n",
        "# Show examples of correctly classified hate speech\n",
        "print(\"Correctly Classified Hate Speech Examples:\")\n",
        "print(test_results[(test_results['True Label'] == 1) & (test_results['Predicted Label'] == 1)].head(5))\n",
        "\n",
        "# Show examples of incorrectly classified hate speech\n",
        "print(\"\\nIncorrectly Classified Hate Speech Examples:\")\n",
        "print(test_results[(test_results['True Label'] == 1) & (test_results['Predicted Label'] == 0)].head(5))\n",
        "\n",
        "# Show examples of correctly classified non-hate speech\n",
        "print(\"\\nCorrectly Classified Non-Hate Speech Examples:\")\n",
        "print(test_results[(test_results['True Label'] == 0) & (test_results['Predicted Label'] == 0)].head(5))\n",
        "\n",
        "# Show examples of incorrectly classified non-hate speech\n",
        "print(\"\\nIncorrectly Classified Non-Hate Speech Examples:\")\n",
        "print(test_results[(test_results['True Label'] == 0) & (test_results['Predicted Label'] == 1)].head(5))"
      ]
    }
  ]
}